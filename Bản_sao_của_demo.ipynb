{
  "nbformat": 4,
  "nbformat_minor": 0,
  "metadata": {
    "colab": {
      "name": "Bản sao của demo.ipynb",
      "provenance": [],
      "collapsed_sections": [],
      "mount_file_id": "1FFVe9Bc_p-7Iv5X9IfNG_vg8yz8s5HW2",
      "authorship_tag": "ABX9TyN6Gniuy8DOnBBGGBoID2aw",
      "include_colab_link": true
    },
    "kernelspec": {
      "name": "python3",
      "display_name": "Python 3"
    },
    "accelerator": "GPU"
  },
  "cells": [
    {
      "cell_type": "markdown",
      "metadata": {
        "id": "view-in-github",
        "colab_type": "text"
      },
      "source": [
        "<a href=\"https://colab.research.google.com/github/nguyenduchuy71/huyiuh.github.gunshop/blob/master/B%E1%BA%A3n_sao_c%E1%BB%A7a_demo.ipynb\" target=\"_parent\"><img src=\"https://colab.research.google.com/assets/colab-badge.svg\" alt=\"Open In Colab\"/></a>"
      ]
    },
    {
      "cell_type": "markdown",
      "metadata": {
        "id": "h7h_RQMVnZ1n",
        "colab_type": "text"
      },
      "source": [
        "# Mục mới"
      ]
    },
    {
      "cell_type": "code",
      "metadata": {
        "id": "YHXaDtXQnd2N",
        "colab_type": "code",
        "colab": {
          "base_uri": "https://localhost:8080/",
          "height": 68
        },
        "outputId": "68727ee2-5010-4e1f-cb66-5242b827ae9f"
      },
      "source": [
        "import cv2\n",
        "import numpy as np\n",
        "from skimage.feature import hog\n",
        "from sklearn.svm import LinearSVC\n",
        "from keras.datasets import mnist\n",
        "from sklearn.metrics import accuracy_score\n",
        "\n",
        "#load data\n",
        "(X_train,y_train),(X_test,y_test) = mnist.load_data()"
      ],
      "execution_count": null,
      "outputs": [
        {
          "output_type": "stream",
          "text": [
            "Using TensorFlow backend.\n"
          ],
          "name": "stderr"
        },
        {
          "output_type": "stream",
          "text": [
            "Downloading data from https://s3.amazonaws.com/img-datasets/mnist.npz\n",
            "11493376/11490434 [==============================] - 1s 0us/step\n"
          ],
          "name": "stdout"
        }
      ]
    },
    {
      "cell_type": "code",
      "metadata": {
        "id": "qIFIeLsKn0JN",
        "colab_type": "code",
        "colab": {
          "base_uri": "https://localhost:8080/",
          "height": 88
        },
        "outputId": "57c3de68-16cf-4baa-f63c-367acc5da207"
      },
      "source": [
        "#cho x_train\n",
        "X_train_feature = []\n",
        "for i in range(len(X_train)):\n",
        "    feature = hog(X_train[i],orientations=9,pixels_per_cell=(14,14),cells_per_block=(1,1),block_norm=\"L2\")\n",
        "    X_train_feature.append(feature)\n",
        "X_train_feature = np.array(X_train_feature,dtype = np.float32)\n",
        "\n",
        "#cho x_test\n",
        "X_test_feature = []\n",
        "for i in range(len(X_test)):\n",
        "    feature = hog(X_test[i],orientations=9,pixels_per_cell=(14,14),cells_per_block=(1,1),block_norm=\"L2\")\n",
        "    X_test_feature.append(feature)\n",
        "X_test_feature = np.array(X_test_feature,dtype=np.float32)\n",
        "model = LinearSVC(C=10)\n",
        "model.fit(X_train_feature,y_train)\n",
        "y_pre = model.predict(X_test_feature)\n",
        "print(accuracy_score(y_test,y_pre))"
      ],
      "execution_count": null,
      "outputs": [
        {
          "output_type": "stream",
          "text": [
            "0.8988\n"
          ],
          "name": "stdout"
        },
        {
          "output_type": "stream",
          "text": [
            "/usr/local/lib/python3.6/dist-packages/sklearn/svm/_base.py:947: ConvergenceWarning: Liblinear failed to converge, increase the number of iterations.\n",
            "  \"the number of iterations.\", ConvergenceWarning)\n"
          ],
          "name": "stderr"
        }
      ]
    }
  ]
}